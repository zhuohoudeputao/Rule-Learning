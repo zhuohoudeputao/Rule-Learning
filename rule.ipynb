{
 "cells": [
  {
   "cell_type": "markdown",
   "metadata": {},
   "source": [
    "# 规则学习 Rule Learning\n",
    "## 林祖轩 计算数学"
   ]
  },
  {
   "cell_type": "markdown",
   "metadata": {},
   "source": [
    "## 15.1 基本概念 Basic Concepts\n",
    "### 规则 If-then：\n",
    "$$\\oplus \\leftarrow f_1 \\wedge f_2 \\wedge \\dots \\wedge f_L$$\n",
    "### 覆盖 Cover：规则1覆盖西瓜数据集2.0中的样本1，2，3，4，5  \n",
    "规则1：好瓜 $\\leftarrow$ 根蒂=蜷缩 $\\wedge$ 脐部=凹陷  \n",
    "规则2：not好瓜 $\\leftarrow$ 纹理=模糊  \n",
    "我们将上面两条规则组成的规则集记为R  \n",
    "### 覆盖可能造成的两个问题\n",
    "#### 1. 冲突 Conflict：同一示例被不同规则覆盖，且判别结果不同\n",
    "冲突消解 Resolution：投票法、排序法、元规则法等  \n",
    "投票法：判别结果相同的规则数最多的为最终结果  \n",
    "排序法：定义一种排序，最靠前的为最终结果  \n",
    "元规则法：根据领域知识设定一些“规则的规则”，即指导规则的使用  \n",
    "#### 2. 不完全覆盖： 规则集不能完全覆盖整个数据集  \n",
    "增加默认规则：“未被规则1，2覆盖的都不是好瓜”  \n",
    "### 规则的表达能力：\n",
    "#### 1. 命题规则：原子命题+逻辑连接词，例：R\n",
    "#### 2. 一阶规则：原子公式+量词+逻辑连接词，例：$\\forall X(自然数(\\sigma (X)))\\leftarrow 自然数(X), ~where~ \\sigma (X)=X+1$\n",
    "#### 3. 命题规则是一阶规则的特殊形式，一阶规则表达能力比命题规则要强"
   ]
  },
  {
   "cell_type": "markdown",
   "metadata": {},
   "source": [
    "## 15.2 序贯覆盖（以命题规则学习为例）\n",
    "### 基本思想：逐条归纳，通过每次训练生成一条仅覆盖正例的规则，就去除掉那些覆盖的样例，用剩下的继续训练\n",
    "以西瓜数据集2.0为例:  \n",
    "1. 好瓜 $\\leftarrow$ 色泽=青绿 覆盖了1、4、6，10、13、17,并不是全部都是正例  \n",
    "2. 好瓜 $\\leftarrow$ 色泽=青绿 $\\wedge$ 根蒂=蜷缩 覆盖了1、4，17，并不是全部都是正例  \n",
    "3. 好瓜 $\\leftarrow$ 色泽=青绿 $\\wedge$ 根蒂=蜷缩 $\\wedge$ 敲声=浊响 覆盖了1，此时都是正例，就把这条规则加到规则集中，然后继续用剩下的样例进行训练\n",
    "### 缺陷：基于穷尽搜索，在属性和样例数量较多的时候可能会组合爆炸\n",
    "#### 自顶向下 top down：也就是上面这个过程，从一般到特殊，覆盖范围从大到小，其泛化性能更好（理由是更容易产生能较短的能覆盖更多正例的规则）\n",
    "#### 自底向上 bottom up：从特殊到一般，覆盖范围从小到大，适用于一阶学习这种假设空间比较复杂的情况"
   ]
  },
  {
   "cell_type": "markdown",
   "metadata": {},
   "source": [
    "## 15.3"
   ]
  },
  {
   "cell_type": "code",
   "execution_count": null,
   "metadata": {},
   "outputs": [],
   "source": []
  }
 ],
 "metadata": {
  "file_extension": ".py",
  "kernelspec": {
   "display_name": "Python 3.6.9 64-bit",
   "language": "python",
   "name": "python36964bit3d12e05063414913908e59088d3fef73"
  },
  "language_info": {
   "codemirror_mode": {
    "name": "ipython",
    "version": 3
   },
   "file_extension": ".py",
   "mimetype": "text/x-python",
   "name": "python",
   "nbconvert_exporter": "python",
   "pygments_lexer": "ipython3",
   "version": "3.6.9-final"
  },
  "mimetype": "text/x-python",
  "name": "python",
  "npconvert_exporter": "python",
  "pygments_lexer": "ipython3",
  "version": 3
 },
 "nbformat": 4,
 "nbformat_minor": 2
}